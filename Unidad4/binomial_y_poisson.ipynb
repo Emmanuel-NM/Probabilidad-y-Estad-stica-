{
  "nbformat": 4,
  "nbformat_minor": 0,
  "metadata": {
    "colab": {
      "provenance": [],
      "authorship_tag": "ABX9TyM2r1eUAaeoedcZydCssUlC",
      "include_colab_link": true
    },
    "kernelspec": {
      "name": "python3",
      "display_name": "Python 3"
    },
    "language_info": {
      "name": "python"
    }
  },
  "cells": [
    {
      "cell_type": "markdown",
      "metadata": {
        "id": "view-in-github",
        "colab_type": "text"
      },
      "source": [
        "<a href=\"https://colab.research.google.com/github/Emmanuel-NM/Probabilidad-y-Estad-stica-/blob/main/Unidad4/binomial_y_poisson.ipynb\" target=\"_parent\"><img src=\"https://colab.research.google.com/assets/colab-badge.svg\" alt=\"Open In Colab\"/></a>"
      ]
    },
    {
      "cell_type": "markdown",
      "source": [
        "##Binomial o Poisson"
      ],
      "metadata": {
        "id": "HKSBnLxVfT4q"
      }
    },
    {
      "cell_type": "code",
      "execution_count": 1,
      "metadata": {
        "colab": {
          "base_uri": "https://localhost:8080/"
        },
        "id": "y738NSNwe6kV",
        "outputId": "5bc920a0-37a3-41d8-f515-f2264c1a674f"
      },
      "outputs": [
        {
          "output_type": "stream",
          "name": "stdout",
          "text": [
            "a) La probabilidad de que ingresen exactamente 2 personas es: 0.0842\n",
            "b) La probabilidad de que ingresen más de 10 personas es: 0.0137\n",
            "No, no es muy probable que el número de ingresos exceda 10.\n"
          ]
        }
      ],
      "source": [
        "# Paso 1: Importar librerías\n",
        "from scipy.stats import poisson\n",
        "\n",
        "# Paso 2: Definir la media de la distribución de Poisson\n",
        "media = 5  # personas por día\n",
        "\n",
        "# Paso 3: a) ¿Cuál es la probabilidad de que ingresen exactamente 2 personas en un día?\n",
        "prob_x_2 = poisson.pmf(2, media)  # PMF = función de masa de probabilidad\n",
        "print(f\"a) La probabilidad de que ingresen exactamente 2 personas es: {prob_x_2:.4f}\")\n",
        "\n",
        "# Paso 4: b) ¿Es probable que x exceda de 10? => P(X > 10) = 1 - P(X ≤ 10)\n",
        "prob_mayor_10 = 1 - poisson.cdf(10, media)  # CDF = función de distribución acumulada\n",
        "print(f\"b) La probabilidad de que ingresen más de 10 personas es: {prob_mayor_10:.4f}\")\n",
        "\n",
        "# Paso 5: Interpretación\n",
        "if prob_mayor_10 > 0.05:\n",
        "    print(\"Sí, es probable que el número de ingresos exceda 10.\")\n",
        "else:\n",
        "    print(\"No, no es muy probable que el número de ingresos exceda 10.\")"
      ]
    },
    {
      "cell_type": "markdown",
      "source": [
        "#Problema Numero 2\n"
      ],
      "metadata": {
        "id": "sfrbaIJifnuC"
      }
    },
    {
      "cell_type": "code",
      "source": [
        "# Paso 1: Importar librerías\n",
        "from scipy.stats import poisson\n",
        "\n",
        "# Paso 2: Parámetros\n",
        "n = 1000  # Total de motores\n",
        "p = 0.001  # Probabilidad de defecto\n",
        "lmbda = n * p  # Media de la distribución Poisson\n",
        "\n",
        "# Paso 3: a) Probabilidad de que ninguno sea defectuoso: P(X = 0)\n",
        "prob_0 = poisson.pmf(0, lmbda)\n",
        "print(f\"a) La probabilidad de que ningún motor sea defectuoso es: {prob_0:.4f}\")\n",
        "\n",
        "# Paso 4: b) Probabilidad de que tres motores sean defectuosos: P(X = 3)\n",
        "prob_3 = poisson.pmf(3, lmbda)\n",
        "print(f\"b) La probabilidad de que tres motores sean defectuosos es: {prob_3:.4f}\")\n",
        "\n",
        "# Paso 5: c) Probabilidad de que cuatro motores sean defectuosos: P(X = 4)\n",
        "prob_4 = poisson.pmf(4, lmbda)\n",
        "print(f\"c) La probabilidad de que cuatro motores sean defectuosos es: {prob_4:.4f}\")"
      ],
      "metadata": {
        "colab": {
          "base_uri": "https://localhost:8080/"
        },
        "id": "OkeTOJVefp9_",
        "outputId": "1c63823e-0e43-46a8-d20c-b1b1d216c376"
      },
      "execution_count": 2,
      "outputs": [
        {
          "output_type": "stream",
          "name": "stdout",
          "text": [
            "a) La probabilidad de que ningún motor sea defectuoso es: 0.3679\n",
            "b) La probabilidad de que tres motores sean defectuosos es: 0.0613\n",
            "c) La probabilidad de que cuatro motores sean defectuosos es: 0.0153\n"
          ]
        }
      ]
    }
  ]
}