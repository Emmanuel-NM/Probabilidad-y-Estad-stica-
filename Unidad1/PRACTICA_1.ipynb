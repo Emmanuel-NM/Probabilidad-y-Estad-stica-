{
  "nbformat": 4,
  "nbformat_minor": 0,
  "metadata": {
    "colab": {
      "provenance": [],
      "authorship_tag": "ABX9TyNP8oycFGhnAe466mlBijL3",
      "include_colab_link": true
    },
    "kernelspec": {
      "name": "python3",
      "display_name": "Python 3"
    },
    "language_info": {
      "name": "python"
    }
  },
  "cells": [
    {
      "cell_type": "markdown",
      "metadata": {
        "id": "view-in-github",
        "colab_type": "text"
      },
      "source": [
        "<a href=\"https://colab.research.google.com/github/Emmanuel-NM/Probabilidad-y-Estad-stica-/blob/main/Unidad1/PRACTICA_1.ipynb\" target=\"_parent\"><img src=\"https://colab.research.google.com/assets/colab-badge.svg\" alt=\"Open In Colab\"/></a>"
      ]
    },
    {
      "cell_type": "markdown",
      "source": [
        "#Practica 1 : Estadistica descriptiva basica e histogramas\n",
        "##Probabilidad Y Estadistica 14:00 A 15:00\n",
        "###Emmanuel Noriega Morales\n",
        "### Facilitador: Dr. Jose Gabriel Rodriguez Rivas\n",
        "\n",
        "> Agregar bloque entrecomillado\n",
        "\n"
      ],
      "metadata": {
        "id": "hSxd1x4Tvp7h"
      }
    },
    {
      "cell_type": "code",
      "execution_count": 1,
      "metadata": {
        "id": "RS0DaraHvOS5"
      },
      "outputs": [],
      "source": [
        "from statistics import *\n"
      ]
    },
    {
      "cell_type": "code",
      "source": [
        "# Lista de calificaciones del grupo a de probabilidad y estadistica\n",
        "\n",
        "grupoa= [70, 70, 65, 90, 100, 95, 45, 80, 20, 73, 100, 96]\n",
        "print(grupoa)"
      ],
      "metadata": {
        "colab": {
          "base_uri": "https://localhost:8080/"
        },
        "id": "bTDanIjOwlRg",
        "outputId": "ea06e1f4-4a2e-4bfb-87e1-3e131ca82300"
      },
      "execution_count": 2,
      "outputs": [
        {
          "output_type": "stream",
          "name": "stdout",
          "text": [
            "[70, 70, 65, 90, 100, 95, 45, 80, 20, 73, 100, 96]\n"
          ]
        }
      ]
    },
    {
      "cell_type": "code",
      "source": [
        "#La funcion type nos vuelve al tipo de dato de la variable\n",
        "type(grupoa)"
      ],
      "metadata": {
        "colab": {
          "base_uri": "https://localhost:8080/"
        },
        "id": "FpNwy8MswtXp",
        "outputId": "0ea901cf-d34c-48ae-9705-c31ef6bbba28"
      },
      "execution_count": 3,
      "outputs": [
        {
          "output_type": "execute_result",
          "data": {
            "text/plain": [
              "list"
            ]
          },
          "metadata": {},
          "execution_count": 3
        }
      ]
    },
    {
      "cell_type": "code",
      "source": [
        "#Sacar la media de las calificaciones con una formula\n",
        "promedio = sum(grupoa) / len(grupoa)\n",
        "print(promedio)"
      ],
      "metadata": {
        "colab": {
          "base_uri": "https://localhost:8080/"
        },
        "id": "Sdo4nc5XxR_8",
        "outputId": "d78c83fb-51c8-4610-8f21-bf8a6d34bb0f"
      },
      "execution_count": 4,
      "outputs": [
        {
          "output_type": "stream",
          "name": "stdout",
          "text": [
            "75.33333333333333\n"
          ]
        }
      ]
    },
    {
      "cell_type": "code",
      "source": [
        "#Utilizar la funcion mean que esta en la libreria statistics para sacar el promedio\n",
        "promedios= mean(grupoa)\n",
        "print(promedio)"
      ],
      "metadata": {
        "colab": {
          "base_uri": "https://localhost:8080/"
        },
        "id": "NIO-NquGx9Ez",
        "outputId": "f90e817d-3268-450d-9200-cb291345ba8c"
      },
      "execution_count": 5,
      "outputs": [
        {
          "output_type": "stream",
          "name": "stdout",
          "text": [
            "75.33333333333333\n"
          ]
        }
      ]
    },
    {
      "cell_type": "code",
      "source": [
        "#Determinar el valor de la mediana como la funcion median\n",
        "mediana= median(grupoa)\n",
        "print(mediana)\n"
      ],
      "metadata": {
        "colab": {
          "base_uri": "https://localhost:8080/"
        },
        "id": "I6ATT55gycHN",
        "outputId": "e9e2ef32-10b4-45f5-fac8-d1378660d381"
      },
      "execution_count": 6,
      "outputs": [
        {
          "output_type": "stream",
          "name": "stdout",
          "text": [
            "76.5\n"
          ]
        }
      ]
    },
    {
      "cell_type": "code",
      "source": [
        "#Determinar el valor de la moda con la funcion mode\n",
        "moda= mode(grupoa)\n",
        "print(moda)"
      ],
      "metadata": {
        "colab": {
          "base_uri": "https://localhost:8080/"
        },
        "id": "aoTeBm5VzV7z",
        "outputId": "730db900-ac1d-477d-9dd3-b7b22154669f"
      },
      "execution_count": 7,
      "outputs": [
        {
          "output_type": "stream",
          "name": "stdout",
          "text": [
            "70\n"
          ]
        }
      ]
    },
    {
      "cell_type": "code",
      "source": [
        "#En caso de que exista mas de una moda, se puede emplear la funcion multimode para multiplicar modas que puesan existir\n",
        "mode2= multimode(grupoa)\n",
        "print(mode2)"
      ],
      "metadata": {
        "colab": {
          "base_uri": "https://localhost:8080/"
        },
        "id": "yZyJQ3Cmz9ML",
        "outputId": "948f777c-14b9-4f63-952f-51d08a01236d"
      },
      "execution_count": 8,
      "outputs": [
        {
          "output_type": "stream",
          "name": "stdout",
          "text": [
            "[70, 100]\n"
          ]
        }
      ]
    },
    {
      "cell_type": "markdown",
      "source": [
        "# Ejemplo 2"
      ],
      "metadata": {
        "id": "IBYtRrNB0Pda"
      }
    },
    {
      "cell_type": "code",
      "source": [
        "#Definimos una variable llamada tiempoes100mts de tipo lista, que contiene los tiempos que tardaron los 10 alumnos para correr los 100 metros\n",
        "tiempoes100mts=[15.10,17.20,14.69,13.27,22.15,18.71,19,15,20.65,15.10,17,20]\n",
        "#Desplegamos los valores de la lista\n",
        "print(tiempoes100mts)\n"
      ],
      "metadata": {
        "colab": {
          "base_uri": "https://localhost:8080/"
        },
        "id": "Zuj7j8w50SrX",
        "outputId": "83783dd7-8fe1-44e8-c10d-04ba9b69da02"
      },
      "execution_count": 9,
      "outputs": [
        {
          "output_type": "stream",
          "name": "stdout",
          "text": [
            "[15.1, 17.2, 14.69, 13.27, 22.15, 18.71, 19, 15, 20.65, 15.1, 17, 20]\n"
          ]
        }
      ]
    },
    {
      "cell_type": "code",
      "source": [
        "#Usamos la funcion mean para determinar el tiempo promedio de la lista de valores\n",
        "print(\"El tiempo promedio de los corredores es=>\", (mean(tiempoes100mts)))"
      ],
      "metadata": {
        "colab": {
          "base_uri": "https://localhost:8080/"
        },
        "id": "pz8yK-Kf1EAV",
        "outputId": "1279d7f2-748b-4722-9c70-682fb348e063"
      },
      "execution_count": 10,
      "outputs": [
        {
          "output_type": "stream",
          "name": "stdout",
          "text": [
            "El tiempo promedio de los corredores es=> 17.322499999999998\n"
          ]
        }
      ]
    },
    {
      "cell_type": "code",
      "source": [
        "# usamos la funcion median para determinar el tiempo promedio de la lista de valores, definimos una varible llamada para calcular de la lista con median\n",
        "mediana= median(tiempoes100mts)\n",
        "print(\"Ea mediana de los tiempoes es=>\", (mediana))"
      ],
      "metadata": {
        "colab": {
          "base_uri": "https://localhost:8080/"
        },
        "id": "WE6bad-r1Lcr",
        "outputId": "55943870-ffb8-4494-c654-a327d7ff5e9b"
      },
      "execution_count": 11,
      "outputs": [
        {
          "output_type": "stream",
          "name": "stdout",
          "text": [
            "Ea mediana de los tiempoes es=> 17.1\n"
          ]
        }
      ]
    },
    {
      "cell_type": "code",
      "source": [
        "#Definimos una variable llamada moda para\n",
        "moda= mode(tiempoes100mts)\n",
        "print(\"La moda de los tiempoes es=>\", (moda))"
      ],
      "metadata": {
        "colab": {
          "base_uri": "https://localhost:8080/"
        },
        "id": "HrYwWnno17GU",
        "outputId": "96956638-948a-43f1-de75-2105f3b1dc10"
      },
      "execution_count": 12,
      "outputs": [
        {
          "output_type": "stream",
          "name": "stdout",
          "text": [
            "La moda de los tiempoes es=> 15.1\n"
          ]
        }
      ]
    },
    {
      "cell_type": "code",
      "source": [
        "#MULTIMODAS\n",
        "multimodas= multimode(tiempoes100mts)\n",
        "print(\"Las multimodas de los tiempoes es=>\", multimodas)"
      ],
      "metadata": {
        "colab": {
          "base_uri": "https://localhost:8080/"
        },
        "id": "tNraRLhN2RNB",
        "outputId": "0c9334fc-69c2-4b83-cc41-671c55bad555"
      },
      "execution_count": 13,
      "outputs": [
        {
          "output_type": "stream",
          "name": "stdout",
          "text": [
            "Las multimodas de los tiempoes es=> [15.1]\n"
          ]
        }
      ]
    },
    {
      "cell_type": "markdown",
      "source": [
        "#Ejemplo 3\n",
        "##Histogramas de 2 grupos"
      ],
      "metadata": {
        "id": "tt6jJbG52tpL"
      }
    },
    {
      "cell_type": "code",
      "source": [
        "#Libreria para generar numeros aleatorios\n",
        "import random"
      ],
      "metadata": {
        "id": "VJob-tXZ2wve"
      },
      "execution_count": 14,
      "outputs": []
    },
    {
      "cell_type": "code",
      "source": [
        "fabrical= []\n",
        "for i in range(100):\n",
        "    numero_aleatorio = round(random.uniform(50,100), 2)\n",
        "    fabrical.append(numero_aleatorio)\n",
        "print(fabrical)"
      ],
      "metadata": {
        "colab": {
          "base_uri": "https://localhost:8080/"
        },
        "id": "grcVVqr73I2U",
        "outputId": "7b4b7edc-ac84-4157-85a6-973a983e464a"
      },
      "execution_count": 15,
      "outputs": [
        {
          "output_type": "stream",
          "name": "stdout",
          "text": [
            "[76.59, 89.29, 62.84, 74.33, 81.97, 68.15, 70.4, 79.99, 59.89, 64.2, 72.53, 60.85, 92.89, 62.8, 64.71, 82.35, 56.16, 88.42, 92.16, 96.46, 96.67, 90.56, 81.88, 56.04, 88.32, 93.95, 97.81, 69.04, 55.48, 83.75, 87.67, 83.92, 81.87, 69.11, 55.3, 62.93, 66.3, 93.04, 93.73, 72.44, 55.68, 77.58, 81.64, 70.85, 73.07, 75.53, 56.83, 55.69, 84.87, 66.72, 56.72, 61.27, 71.85, 90.54, 89.93, 64.55, 93.03, 50.53, 97.9, 59.37, 97.38, 98.7, 71.65, 59.37, 68.65, 96.97, 80.16, 58.58, 83.88, 97.47, 69.32, 77.6, 53.13, 50.62, 92.5, 61.25, 81.83, 72.57, 69.18, 97.41, 53.55, 79.59, 56.43, 53.62, 59.75, 90.04, 62.62, 83.15, 77.38, 51.99, 77.56, 97.31, 69.34, 80.54, 58.32, 55.79, 62.7, 98.06, 95.14, 68.73]\n"
          ]
        }
      ]
    },
    {
      "cell_type": "code",
      "source": [
        "fabrical2= []\n",
        "for i in range(100):\n",
        "    numero_aleatorio = round(random.uniform(50,100), 2)\n",
        "    fabrical2.append(numero_aleatorio)\n",
        "print(fabrical2)"
      ],
      "metadata": {
        "colab": {
          "base_uri": "https://localhost:8080/"
        },
        "id": "5CJAXY7O4n3W",
        "outputId": "70b9efb1-de5a-4932-ae8e-455c40819b54"
      },
      "execution_count": 16,
      "outputs": [
        {
          "output_type": "stream",
          "name": "stdout",
          "text": [
            "[70.05, 55.86, 91.19, 53.4, 56.21, 52.56, 53.76, 82.67, 98.76, 69.1, 81.15, 74.34, 56.88, 52.18, 85.64, 55.47, 95.43, 50.12, 61.52, 65.15, 51.59, 65.54, 68.39, 67.56, 75.14, 53.15, 63.5, 77.55, 88.7, 79.24, 81.52, 53.4, 58.92, 71.59, 79.15, 58.48, 68.85, 97.26, 56.33, 83.31, 62.46, 78.64, 50.85, 79.58, 94.64, 85.36, 83.1, 65.51, 73.31, 66.9, 87.18, 74.97, 77.72, 67.31, 92.22, 77.52, 79.62, 51.72, 59.06, 55.88, 75.87, 85.35, 67.81, 91.56, 86.72, 77.0, 99.99, 93.85, 58.96, 84.38, 94.17, 51.72, 60.18, 82.24, 62.45, 84.03, 83.28, 53.21, 51.89, 84.72, 53.98, 61.93, 85.93, 60.02, 56.9, 90.18, 97.28, 83.47, 71.68, 75.9, 60.88, 59.18, 90.78, 79.29, 69.74, 51.77, 55.21, 90.28, 63.59, 97.61]\n"
          ]
        }
      ]
    },
    {
      "cell_type": "code",
      "source": [
        "#Libreta de python para graficar valores\n",
        "import matplotlib.pyplot as plt"
      ],
      "metadata": {
        "id": "oe76GKEK45RJ"
      },
      "execution_count": 17,
      "outputs": []
    },
    {
      "cell_type": "code",
      "source": [
        "plt.hist(fabrica1)\n",
        "plt.title(\"Produccion diaria de la fabrica 1\")"
      ],
      "metadata": {
        "colab": {
          "base_uri": "https://localhost:8080/",
          "height": 470
        },
        "id": "BPXiBv655Amz",
        "outputId": "2dce9c49-0620-4a62-c3b1-0480c9df4758"
      },
      "execution_count": 18,
      "outputs": [
        {
          "output_type": "execute_result",
          "data": {
            "text/plain": [
              "Text(0.5, 1.0, 'Produccion diaria de la fabrica 1')"
            ]
          },
          "metadata": {},
          "execution_count": 18
        },
        {
          "output_type": "display_data",
          "data": {
            "text/plain": [
              "<Figure size 640x480 with 1 Axes>"
            ],
            "image/png": "[encoded data removed]"
          },
          "metadata": {}
        }
      ]
    },
    {
      "cell_type": "code",
      "source": [
        "plt.hist(fabrical2)\n",
        "plt.title(\"Produccion diaria de la fabrica 2\")"
      ],
      "metadata": {
        "colab": {
          "base_uri": "https://localhost:8080/",
          "height": 470
        },
        "id": "r55q-LLB5fGs",
        "outputId": "7dd2302d-30db-4771-babf-708c9f7550ef"
      },
      "execution_count": 19,
      "outputs": [
        {
          "output_type": "execute_result",
          "data": {
            "text/plain": [
              "Text(0.5, 1.0, 'Produccion diaria de la fabrica 2')"
            ]
          },
          "metadata": {},
          "execution_count": 19
        },
        {
          "output_type": "display_data",
          "data": {
            "text/plain": [
              "<Figure size 640x480 with 1 Axes>"
            ],
            "image/png": "[encoded data removed]"
          },
          "metadata": {}
        }
      ]
    },
    {
      "cell_type": "code",
      "source": [
        "media1 = mean(fabrical)\n",
        "mediana1 = median(fabrical)\n",
        "moda1 = mode(fabrical)\n",
        "\n",
        "print(\"Valores de la Fabrica 1\")\n",
        "print(\"La media es =\", media1)\n",
        "print(\"La mediana es =\", mediana1)\n",
        "print(\"La moda es =\", moda1)"
      ],
      "metadata": {
        "colab": {
          "base_uri": "https://localhost:8080/"
        },
        "id": "ZEa0k1Af5lYm",
        "outputId": "79e3adaf-3786-48b6-f490-fa6e1e764fcc"
      },
      "execution_count": 27,
      "outputs": [
        {
          "output_type": "stream",
          "name": "stdout",
          "text": [
            "Valores de la Fabrica 1\n",
            "La media es = 74.8077\n",
            "La mediana es = 72.82\n",
            "La moda es = 59.37\n"
          ]
        }
      ]
    },
    {
      "cell_type": "code",
      "source": [
        "media2 = mean(fabrical2)\n",
        "mediana2 = median(fabrical2)\n",
        "moda2 = mode(fabrical2)\n",
        "\n",
        "print(\"Valores de la Fabrica 2\")\n",
        "print(\"La media es =\", media2)\n",
        "print(\"La mediana es =\", mediana2)\n",
        "print(\"La moda es =\", moda2)"
      ],
      "metadata": {
        "colab": {
          "base_uri": "https://localhost:8080/"
        },
        "id": "RCdPyIq663cQ",
        "outputId": "d146ba38-75d6-4c12-fbbb-411a4e478862"
      },
      "execution_count": 26,
      "outputs": [
        {
          "output_type": "stream",
          "name": "stdout",
          "text": [
            "Valores de la Fabrica 2\n",
            "La media es = 72.09140000000001\n",
            "La mediana es = 71.635\n",
            "La moda es = 53.4\n"
          ]
        }
      ]
    },
    {
      "cell_type": "code",
      "source": [
        "#Generar 2 subplot de 1 renglon por 2 columnas para desplegar loa2 Histogramas una al lado de otra\n",
        "\n",
        "fig, (ax1, ax2) = plt.subplots(nrows = 1, ncols = 2, figsize = (10, 5)) # Change 'pit' to 'plt'\n",
        "ax1.hist(fabrical)\n",
        "ax2.hist(fabrical2)\n",
        "plt.show()"
      ],
      "metadata": {
        "colab": {
          "base_uri": "https://localhost:8080/",
          "height": 445
        },
        "id": "7gUS3wGA7LiO",
        "outputId": "3221108f-f51c-4b9c-e0ed-13abd1712a71"
      },
      "execution_count": 32,
      "outputs": [
        {
          "output_type": "display_data",
          "data": {
            "text/plain": [
              "<Figure size 1000x500 with 2 Axes>"
            ],
            "image/png": "[encoded data removed]"
          },
          "metadata": {}
        }
      ]
    },
    {
      "cell_type": "code",
      "source": [
        "plt.hist(fabrical, bins=10, alpha=0.2, color='b', edgecolor = \"black\")\n",
        "plt.axvline(media1, color='b', linestyle='dashed', linewidth=2, label='Media')\n",
        "plt.axvline(mediana1, color='r', linestyle='dashed', linewidth=2, label='Mediana')\n",
        "plt.axvline(moda1, color='y', linestyle='dashed', linewidth=2, label='Moda')\n",
        "plt.xlabel('Valor')\n",
        "plt.ylabel('Frecuencia')\n",
        "plt.title(\"Produccion diaria de la fabrica 1\")\n",
        "plt.legend()\n",
        "plt.show()\n"
      ],
      "metadata": {
        "colab": {
          "base_uri": "https://localhost:8080/",
          "height": 472
        },
        "id": "2AZIYCdf8wvK",
        "outputId": "91984b26-8e16-49ec-e1e2-90bd5470ac1e"
      },
      "execution_count": 35,
      "outputs": [
        {
          "output_type": "display_data",
          "data": {
            "text/plain": [
              "<Figure size 640x480 with 1 Axes>"
            ],
            "image/png": "[encoded data removed]"
          },
          "metadata": {}
        }
      ]
    },
    {
      "cell_type": "code",
      "source": [
        "plt.hist(fabrical2, bins=10, alpha=0.2, color='b', edgecolor = \"black\")\n",
        "plt.axvline(media2, color='b', linestyle='dashed', linewidth=2, label='Media')\n",
        "plt.axvline(mediana2, color='r', linestyle='dashed', linewidth=2, label='Mediana')\n",
        "plt.axvline(moda2, color='y', linestyle='dashed', linewidth=2, label='Moda')\n",
        "plt.xlabel('Valor')\n",
        "plt.ylabel('Frecuencia')\n",
        "plt.title(\"Produccion diaria de la fabrica 2\")\n",
        "plt.legend()\n",
        "plt.show()"
      ],
      "metadata": {
        "colab": {
          "base_uri": "https://localhost:8080/",
          "height": 472
        },
        "id": "bnFqF57X_NVv",
        "outputId": "be48be6f-824b-45b1-f50b-c30cbaa3a4a3"
      },
      "execution_count": 37,
      "outputs": [
        {
          "output_type": "display_data",
          "data": {
            "text/plain": [
              "<Figure size 640x480 with 1 Axes>"
            ],
            "image/png": "[encoded data removed]"
          },
          "metadata": {}
        }
      ]
    }
  ]
}