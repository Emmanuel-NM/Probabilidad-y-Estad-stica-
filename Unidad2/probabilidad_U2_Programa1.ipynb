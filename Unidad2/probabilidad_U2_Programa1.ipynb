{
  "nbformat": 4,
  "nbformat_minor": 0,
  "metadata": {
    "colab": {
      "provenance": [],
      "authorship_tag": "ABX9TyOA+tFHZiOzH8fVVDqWh+/x",
      "include_colab_link": true
    },
    "kernelspec": {
      "name": "python3",
      "display_name": "Python 3"
    },
    "language_info": {
      "name": "python"
    }
  },
  "cells": [
    {
      "cell_type": "markdown",
      "metadata": {
        "id": "view-in-github",
        "colab_type": "text"
      },
      "source": [
        "<a href=\"https://colab.research.google.com/github/Emmanuel-NM/Probabilidad-y-Estad-stica-/blob/main/Unidad2/probabilidad_U2_Programa1.ipynb\" target=\"_parent\"><img src=\"https://colab.research.google.com/assets/colab-badge.svg\" alt=\"Open In Colab\"/></a>"
      ]
    },
    {
      "cell_type": "markdown",
      "source": [
        "#Combinaciones sin repeticion\n",
        "##Pagina 25\n",
        "###Emmanuel Noriega Morales"
      ],
      "metadata": {
        "id": "FMhoyyMhVhIJ"
      }
    },
    {
      "cell_type": "code",
      "execution_count": null,
      "metadata": {
        "id": "0YuSGoSxEj-r"
      },
      "outputs": [],
      "source": [
        "import math as mt\n",
        "from itertools import combinations\n",
        "from itertools import combinations_with_replacement\n",
        "import numpy as np"
      ]
    },
    {
      "cell_type": "code",
      "source": [
        "nombres = [\"Oscar\", \"Paco\", \"Paty\", \"Laura\", \"Rubén\", \"Luis\", \"Lucy\", \"Alberto\", \"Juan\", \"Danny\"]\n",
        "n = len (nombres)\n",
        "r = 2 # ¿como agrupar?\n",
        "Cn = mt.factorial(n) / (mt.factorial(r) * mt.factorial(n-r))\n",
        "print( \"Existen \", Cn , \"Posibles combinaciones sin repeticion del total de\", n , \"nombres\", \"en grupos de\", r , \"en\", r)\n",
        "\n",
        "print (\"Aquí las combinaciones\")\n",
        "combinaciones_nombres = list(combinations (nombres, r))\n",
        "\n",
        "for combinacion in combinaciones_nombres:\n",
        "    print (combinacion)"
      ],
      "metadata": {
        "colab": {
          "base_uri": "https://localhost:8080/"
        },
        "id": "1VTAgj24XcQj",
        "outputId": "8a72e8f9-b0ce-4ee7-8de9-dfd805c8a8d9"
      },
      "execution_count": null,
      "outputs": [
        {
          "output_type": "stream",
          "name": "stdout",
          "text": [
            "Existen  45.0 Posibles combinaciones sin repeticion del total de 10 nombres en grupos de 2 en 2\n",
            "Aquí las combinaciones\n",
            "('Oscar', 'Paco')\n",
            "('Oscar', 'Paty')\n",
            "('Oscar', 'Laura')\n",
            "('Oscar', 'Rubén')\n",
            "('Oscar', 'Luis')\n",
            "('Oscar', 'Lucy')\n",
            "('Oscar', 'Alberto')\n",
            "('Oscar', 'Juan')\n",
            "('Oscar', 'Danny')\n",
            "('Paco', 'Paty')\n",
            "('Paco', 'Laura')\n",
            "('Paco', 'Rubén')\n",
            "('Paco', 'Luis')\n",
            "('Paco', 'Lucy')\n",
            "('Paco', 'Alberto')\n",
            "('Paco', 'Juan')\n",
            "('Paco', 'Danny')\n",
            "('Paty', 'Laura')\n",
            "('Paty', 'Rubén')\n",
            "('Paty', 'Luis')\n",
            "('Paty', 'Lucy')\n",
            "('Paty', 'Alberto')\n",
            "('Paty', 'Juan')\n",
            "('Paty', 'Danny')\n",
            "('Laura', 'Rubén')\n",
            "('Laura', 'Luis')\n",
            "('Laura', 'Lucy')\n",
            "('Laura', 'Alberto')\n",
            "('Laura', 'Juan')\n",
            "('Laura', 'Danny')\n",
            "('Rubén', 'Luis')\n",
            "('Rubén', 'Lucy')\n",
            "('Rubén', 'Alberto')\n",
            "('Rubén', 'Juan')\n",
            "('Rubén', 'Danny')\n",
            "('Luis', 'Lucy')\n",
            "('Luis', 'Alberto')\n",
            "('Luis', 'Juan')\n",
            "('Luis', 'Danny')\n",
            "('Lucy', 'Alberto')\n",
            "('Lucy', 'Juan')\n",
            "('Lucy', 'Danny')\n",
            "('Alberto', 'Juan')\n",
            "('Alberto', 'Danny')\n",
            "('Juan', 'Danny')\n"
          ]
        }
      ]
    },
    {
      "cell_type": "markdown",
      "source": [
        "#Caracteres alfabéticos y dígitos\n",
        "##Pagina 28\n",
        "###Emmanuel Noriega Morales"
      ],
      "metadata": {
        "id": "2VHXy7jbYJpJ"
      }
    },
    {
      "cell_type": "code",
      "source": [],
      "metadata": {
        "id": "lVz_twWSZayo"
      },
      "execution_count": null,
      "outputs": []
    },
    {
      "cell_type": "code",
      "source": [
        "caracteres = [\"A\", \"B\", \"C\", \"D\", \"E\", \"F\", \"®\", \"1\", \"2\", \"3\", \"4\", \"5\"]\n",
        "n = len(caracteres)\n",
        "r = 10\n",
        "Cn = mt. factorial(n) / (mt.factorial(r) * mt.factorial(n-r))\n",
        "print (\"Existen \", Cn, \" posibles combinaciones sin repetición del total de \", n , \" caracteres\" , \"en grupos de \", r ,\"en\", r)\n",
        "\n",
        "print (\"Aquí las combinaciones\")\n",
        "combinaciones_caracteres = list(combinations (caracteres, r))\n",
        "\n",
        "for combinacion in combinaciones_caracteres:\n",
        "  print (combinacion)"
      ],
      "metadata": {
        "colab": {
          "base_uri": "https://localhost:8080/"
        },
        "id": "xKdpYKb_YgcP",
        "outputId": "b07d1065-86cb-4250-c042-4e9db8777727"
      },
      "execution_count": null,
      "outputs": [
        {
          "output_type": "stream",
          "name": "stdout",
          "text": [
            "Existen  66.0  posibles combinaciones sin repetición del total de  12  caracteres en grupos de  10 en 10\n",
            "Aquí las combinaciones\n",
            "('A', 'B', 'C', 'D', 'E', 'F', '®', '1', '2', '3')\n",
            "('A', 'B', 'C', 'D', 'E', 'F', '®', '1', '2', '4')\n",
            "('A', 'B', 'C', 'D', 'E', 'F', '®', '1', '2', '5')\n",
            "('A', 'B', 'C', 'D', 'E', 'F', '®', '1', '3', '4')\n",
            "('A', 'B', 'C', 'D', 'E', 'F', '®', '1', '3', '5')\n",
            "('A', 'B', 'C', 'D', 'E', 'F', '®', '1', '4', '5')\n",
            "('A', 'B', 'C', 'D', 'E', 'F', '®', '2', '3', '4')\n",
            "('A', 'B', 'C', 'D', 'E', 'F', '®', '2', '3', '5')\n",
            "('A', 'B', 'C', 'D', 'E', 'F', '®', '2', '4', '5')\n",
            "('A', 'B', 'C', 'D', 'E', 'F', '®', '3', '4', '5')\n",
            "('A', 'B', 'C', 'D', 'E', 'F', '1', '2', '3', '4')\n",
            "('A', 'B', 'C', 'D', 'E', 'F', '1', '2', '3', '5')\n",
            "('A', 'B', 'C', 'D', 'E', 'F', '1', '2', '4', '5')\n",
            "('A', 'B', 'C', 'D', 'E', 'F', '1', '3', '4', '5')\n",
            "('A', 'B', 'C', 'D', 'E', 'F', '2', '3', '4', '5')\n",
            "('A', 'B', 'C', 'D', 'E', '®', '1', '2', '3', '4')\n",
            "('A', 'B', 'C', 'D', 'E', '®', '1', '2', '3', '5')\n",
            "('A', 'B', 'C', 'D', 'E', '®', '1', '2', '4', '5')\n",
            "('A', 'B', 'C', 'D', 'E', '®', '1', '3', '4', '5')\n",
            "('A', 'B', 'C', 'D', 'E', '®', '2', '3', '4', '5')\n",
            "('A', 'B', 'C', 'D', 'E', '1', '2', '3', '4', '5')\n",
            "('A', 'B', 'C', 'D', 'F', '®', '1', '2', '3', '4')\n",
            "('A', 'B', 'C', 'D', 'F', '®', '1', '2', '3', '5')\n",
            "('A', 'B', 'C', 'D', 'F', '®', '1', '2', '4', '5')\n",
            "('A', 'B', 'C', 'D', 'F', '®', '1', '3', '4', '5')\n",
            "('A', 'B', 'C', 'D', 'F', '®', '2', '3', '4', '5')\n",
            "('A', 'B', 'C', 'D', 'F', '1', '2', '3', '4', '5')\n",
            "('A', 'B', 'C', 'D', '®', '1', '2', '3', '4', '5')\n",
            "('A', 'B', 'C', 'E', 'F', '®', '1', '2', '3', '4')\n",
            "('A', 'B', 'C', 'E', 'F', '®', '1', '2', '3', '5')\n",
            "('A', 'B', 'C', 'E', 'F', '®', '1', '2', '4', '5')\n",
            "('A', 'B', 'C', 'E', 'F', '®', '1', '3', '4', '5')\n",
            "('A', 'B', 'C', 'E', 'F', '®', '2', '3', '4', '5')\n",
            "('A', 'B', 'C', 'E', 'F', '1', '2', '3', '4', '5')\n",
            "('A', 'B', 'C', 'E', '®', '1', '2', '3', '4', '5')\n",
            "('A', 'B', 'C', 'F', '®', '1', '2', '3', '4', '5')\n",
            "('A', 'B', 'D', 'E', 'F', '®', '1', '2', '3', '4')\n",
            "('A', 'B', 'D', 'E', 'F', '®', '1', '2', '3', '5')\n",
            "('A', 'B', 'D', 'E', 'F', '®', '1', '2', '4', '5')\n",
            "('A', 'B', 'D', 'E', 'F', '®', '1', '3', '4', '5')\n",
            "('A', 'B', 'D', 'E', 'F', '®', '2', '3', '4', '5')\n",
            "('A', 'B', 'D', 'E', 'F', '1', '2', '3', '4', '5')\n",
            "('A', 'B', 'D', 'E', '®', '1', '2', '3', '4', '5')\n",
            "('A', 'B', 'D', 'F', '®', '1', '2', '3', '4', '5')\n",
            "('A', 'B', 'E', 'F', '®', '1', '2', '3', '4', '5')\n",
            "('A', 'C', 'D', 'E', 'F', '®', '1', '2', '3', '4')\n",
            "('A', 'C', 'D', 'E', 'F', '®', '1', '2', '3', '5')\n",
            "('A', 'C', 'D', 'E', 'F', '®', '1', '2', '4', '5')\n",
            "('A', 'C', 'D', 'E', 'F', '®', '1', '3', '4', '5')\n",
            "('A', 'C', 'D', 'E', 'F', '®', '2', '3', '4', '5')\n",
            "('A', 'C', 'D', 'E', 'F', '1', '2', '3', '4', '5')\n",
            "('A', 'C', 'D', 'E', '®', '1', '2', '3', '4', '5')\n",
            "('A', 'C', 'D', 'F', '®', '1', '2', '3', '4', '5')\n",
            "('A', 'C', 'E', 'F', '®', '1', '2', '3', '4', '5')\n",
            "('A', 'D', 'E', 'F', '®', '1', '2', '3', '4', '5')\n",
            "('B', 'C', 'D', 'E', 'F', '®', '1', '2', '3', '4')\n",
            "('B', 'C', 'D', 'E', 'F', '®', '1', '2', '3', '5')\n",
            "('B', 'C', 'D', 'E', 'F', '®', '1', '2', '4', '5')\n",
            "('B', 'C', 'D', 'E', 'F', '®', '1', '3', '4', '5')\n",
            "('B', 'C', 'D', 'E', 'F', '®', '2', '3', '4', '5')\n",
            "('B', 'C', 'D', 'E', 'F', '1', '2', '3', '4', '5')\n",
            "('B', 'C', 'D', 'E', '®', '1', '2', '3', '4', '5')\n",
            "('B', 'C', 'D', 'F', '®', '1', '2', '3', '4', '5')\n",
            "('B', 'C', 'E', 'F', '®', '1', '2', '3', '4', '5')\n",
            "('B', 'D', 'E', 'F', '®', '1', '2', '3', '4', '5')\n",
            "('C', 'D', 'E', 'F', '®', '1', '2', '3', '4', '5')\n"
          ]
        }
      ]
    },
    {
      "cell_type": "markdown",
      "source": [
        "#Combinaciones con repetición\n",
        "##Pagina 31\n",
        "###Emmanuel Noriega Morales"
      ],
      "metadata": {
        "id": "VmEI5UnaZgFE"
      }
    },
    {
      "cell_type": "code",
      "source": [
        "dado = [1, 2, 3, 4, 5, 6]\n",
        "n = len(dado)\n",
        "r = 2 # ¿cómo agrupar?, de dos en dos porque hay dos dados\n",
        "CnR = mt.factorial(n+r-1) / (mt.factorial(r) * mt.factorial((n+r-1)-r))\n",
        "print(\"Existen \", CnR , \"posibles combinaciones con repetición del total de \", n ,  \"caracteres \", \"en grupos de\", r , \"en\", r)\n",
        "\n",
        "print(\"Aquí las combinaciones con repetición de dos dados\")\n",
        "\n",
        "elementos = [1, 2, 3, 4, 5, 6]\n",
        "\n",
        "r = 2\n",
        "\n",
        "combinaciones_dados = list(combinations_with_replacement(dado, r))\n",
        "# Imprimir las combinaciones\n",
        "for combinacion in combinaciones_dados:\n",
        " print(combinacion)\n"
      ],
      "metadata": {
        "colab": {
          "base_uri": "https://localhost:8080/"
        },
        "id": "TFH_ukVwZxcT",
        "outputId": "3ee6fe96-4fd2-45f6-f672-c918b7412e2d"
      },
      "execution_count": null,
      "outputs": [
        {
          "output_type": "stream",
          "name": "stdout",
          "text": [
            "Existen  21.0 posibles combinaciones con repetición del total de  6 caracteres  en grupos de 2 en 2\n",
            "Aquí las combinaciones con repetición de dos dados\n",
            "(1, 1)\n",
            "(1, 2)\n",
            "(1, 3)\n",
            "(1, 4)\n",
            "(1, 5)\n",
            "(1, 6)\n",
            "(2, 2)\n",
            "(2, 3)\n",
            "(2, 4)\n",
            "(2, 5)\n",
            "(2, 6)\n",
            "(3, 3)\n",
            "(3, 4)\n",
            "(3, 5)\n",
            "(3, 6)\n",
            "(4, 4)\n",
            "(4, 5)\n",
            "(4, 6)\n",
            "(5, 5)\n",
            "(5, 6)\n",
            "(6, 6)\n"
          ]
        }
      ]
    }
  ]
}