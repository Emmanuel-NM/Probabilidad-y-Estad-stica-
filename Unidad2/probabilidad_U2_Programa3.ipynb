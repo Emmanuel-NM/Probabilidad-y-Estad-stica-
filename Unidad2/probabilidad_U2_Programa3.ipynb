{
  "nbformat": 4,
  "nbformat_minor": 0,
  "metadata": {
    "colab": {
      "provenance": [],
      "authorship_tag": "ABX9TyOSra+ylRKuGNOowKVSgbnN",
      "include_colab_link": true
    },
    "kernelspec": {
      "name": "python3",
      "display_name": "Python 3"
    },
    "language_info": {
      "name": "python"
    }
  },
  "cells": [
    {
      "cell_type": "markdown",
      "metadata": {
        "id": "view-in-github",
        "colab_type": "text"
      },
      "source": [
        "<a href=\"https://colab.research.google.com/github/Emmanuel-NM/Probabilidad-y-Estad-stica-/blob/main/Unidad2/probabilidad_U2_Programa3.ipynb\" target=\"_parent\"><img src=\"https://colab.research.google.com/assets/colab-badge.svg\" alt=\"Open In Colab\"/></a>"
      ]
    },
    {
      "cell_type": "code",
      "execution_count": 1,
      "metadata": {
        "colab": {
          "base_uri": "https://localhost:8080/"
        },
        "id": "XYActG96GfQO",
        "outputId": "8772cbf3-0277-443f-9e42-18ce4c83f895"
      },
      "outputs": [
        {
          "output_type": "stream",
          "name": "stdout",
          "text": [
            "Número de maneras de elegir los asistentes para calificar: 5040\n"
          ]
        }
      ],
      "source": [
        "import math\n",
        "\n",
        "# Datos del problema\n",
        "n = 10  # Número total de asistentes\n",
        "r = 4   # Número de asistentes seleccionados\n",
        "\n",
        "# Aplicamos la fórmula de permutaciones: P(n, r) = n! / (n-r)!\n",
        "permutaciones = math.factorial(n) // math.factorial(n - r)\n",
        "\n",
        "# Mostramos el resultado\n",
        "print(\"Número de maneras de elegir los asistentes para calificar:\", permutaciones)"
      ]
    }
  ]
}